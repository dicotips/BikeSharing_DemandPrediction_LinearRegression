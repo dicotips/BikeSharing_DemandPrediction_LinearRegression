{
 "cells": [
  {
   "cell_type": "markdown",
   "id": "d9574140-6c03-44cb-8447-afe8004b026e",
   "metadata": {},
   "source": [
    "# <center> Lending Club Case Study\n",
    "\n",
    "\n",
    "## Table of Content\n",
    "\n",
    "1. [Introduction](#Introduction)\n",
    "2. [Important Settings](#Important-Settings)\n",
    "3. [Data Understanding](#Data-Understanding)  \n",
    "4. [Data Preparation](#Data-Preparation)\n",
    "    1. [Dropping Data](#Dropping-Data)\n",
    "    2. [Formatting Data](#Formatting-Data)\n",
    "    3. [Derived Data](#Derived-Data)\n",
    "5. [Data Analysis](#Data-Analysis)\n",
    "    1. [Univariable Analysis](#Univariable-Analysis)\n",
    "        1. [Plot Loan Numeric Data](#Plot-Loan-Numeric-Data)\n",
    "        2. [Plot Loan Categorical Data](#Plot-Loan-Categorical-Data)\n",
    "        3. [Plot Customer Numeric Data](#Plot-Customer-Categorical-Data)\n",
    "        4. [Plot Customer Categorical Data](#Plot-Customer-Categorical-Data)\n",
    "    2. [Bivariable Analysis](#Bivariable-Analysis)\n",
    "6. [Conclusions and Observations](#Conclusions-and-Observations)"
   ]
  },
  {
   "cell_type": "markdown",
   "id": "680ce64d-389b-4ab0-9ceb-5e1825326317",
   "metadata": {},
   "source": [
    "# Introduction \n",
    "\n",
    "### Contact:\n",
    "* Jheser Guzman (https://github.com/dicotips)\n",
    "\n",
    "## Business Understanding\n",
    "\n",
    "**Source:** UpGrad Assignment description"
   ]
  },
  {
   "cell_type": "markdown",
   "id": "e9f14557-da2d-4f40-8435-36259572d265",
   "metadata": {},
   "source": [
    "A bike-sharing system is a service in which bikes are made available for shared use to individuals on a short term basis for a price or free. Many bike share systems allow people to borrow a bike from a \"dock\" which is usually computer-controlled wherein the user enters the payment information, and the system unlocks it. This bike can then be returned to another dock belonging to the same system.\n",
    "\n",
    "A US bike-sharing provider **BoomBikes** has recently suffered considerable dips in their revenues due to the ongoing Corona pandemic. The company is finding it very difficult to sustain in the current market scenario. So, it has decided to come up with a mindful business plan to be able to accelerate its revenue as soon as the ongoing lockdown comes to an end, and the economy restores to a healthy state.\n",
    "\n",
    "In such an attempt, BoomBikes aspires to understand the demand for shared bikes among the people after this ongoing quarantine situation ends across the nation due to Covid-19. They have planned this to prepare themselves to cater to the people's needs once the situation gets better all around and stand out from other service providers and make huge profits.\n",
    "\n",
    "They have contracted a consulting company to understand the factors on which the demand for these shared bikes depends. Specifically, they want to understand the factors affecting the demand for these shared bikes in the American market. The company wants to know:\n",
    "\n",
    "* Which variables are significant in predicting the demand for shared bikes.\n",
    "* How well those variables describe the bike demands\n",
    "\n",
    "Based on various meteorological surveys and people's styles, the service provider firm has gathered a large dataset on daily bike demands across the American market based on some factors.\n",
    "\n",
    "### Business Goal:\n",
    "\n",
    "You are required to model the demand for shared bikes with the available independent variables. It will be used by the management to understand how exactly the demands vary with different features. They can accordingly manipulate the business strategy to meet the demand levels and meet the customer's expectations. Further, the model will be a good way for management to understand the demand dynamics of a new market."
   ]
  },
  {
   "cell_type": "markdown",
   "id": "954c88e6-0dc4-40a4-89d0-1dab6f510980",
   "metadata": {},
   "source": [
    "# Important Initial Settings"
   ]
  },
  {
   "cell_type": "code",
   "execution_count": 18,
   "id": "148adb49-0538-45f8-9de6-bb7f2a4bbd54",
   "metadata": {},
   "outputs": [],
   "source": [
    "# Importing Required Libraries\n",
    "import numpy as np\n",
    "import pandas as pd\n",
    "import matplotlib.pyplot as plt\n",
    "import seaborn as sns\n",
    "import sys\n",
    "\n",
    "# Importing ML Libaries\n",
    "import sklearn\n",
    "from sklearn.model_selection import train_test_split\n",
    "from sklearn.preprocessing import MinMaxScaler\n",
    "from sklearn.metrics import r2_score\n",
    "from sklearn.feature_selection import RFE\n",
    "from sklearn.linear_model import LinearRegression\n",
    "\n",
    "import statsmodels.api as sm\n",
    "from statsmodels.stats.outliers_influence import variance_inflation_factor\n",
    "\n",
    "# Ignore version warnings\n",
    "import warnings\n",
    "warnings.filterwarnings('ignore')\n",
    "\n",
    "# Setting the format of Float numbers to two digits.\n",
    "pd.options.display.float_format = '{:.2f}'.format "
   ]
  },
  {
   "cell_type": "code",
   "execution_count": 19,
   "id": "2cac811e-54d0-4d6c-a2fb-37b3b98bd0b5",
   "metadata": {},
   "outputs": [],
   "source": [
    "# Reading CSV file with dtype object and saving it in raw_data dataframe. \n",
    "# All the processing in the data will be stored in new dataframes\n",
    "\n",
    "# Set Dataset File Path\n",
    "DATA_FILE_PATH = '_data/data.csv'\n",
    "\n",
    "raw_data = pd.read_csv(DATA_FILE_PATH, dtype=object)"
   ]
  },
  {
   "cell_type": "markdown",
   "id": "3494e24c-5da6-4d5e-8b03-c01eec33433f",
   "metadata": {},
   "source": [
    "### Important Custom Functions"
   ]
  },
  {
   "cell_type": "code",
   "execution_count": 20,
   "id": "282de13a-ea7e-48fb-8064-18cbde2083e6",
   "metadata": {},
   "outputs": [],
   "source": [
    "def univar_plot(dataframe, column, var_type , hue = None):\n",
    "    \n",
    "    '''\n",
    "    univar_plot function plots a column from a dataframe.\n",
    "    dataframe  : dataframe variable\n",
    "    column     : Column name\n",
    "    var_type   : variable type to specify i it is continuos or categorical\n",
    "                Continuos=0   ==> Graph contains:  Distribution, Violin & Boxplot.\n",
    "                Categorical=1 ==> Graph contains:  Countplot.\n",
    "    hue        : Only for categorical data (coloring).\n",
    "    \n",
    "    '''\n",
    "    sns.set(style=\"darkgrid\")\n",
    "    \n",
    "    if var_type == 0:\n",
    "        fig, ax = plt.subplots(nrows=1, ncols=3, figsize=(20,8))\n",
    "        \n",
    "        ax[0].set_title(\"Distribution Plot\")\n",
    "        sns.distplot(dataframe[column],ax=ax[0])\n",
    "        \n",
    "        ax[1].set_title(\"Violin Plot\")\n",
    "        sns.violinplot(data=dataframe, x=column, ax=ax[1], inner = \"quartile\")\n",
    "        \n",
    "        ax[2].set_title(\"Box Plot\")\n",
    "        sns.boxplot(data=dataframe, x=column, ax=ax[2], orient='v')\n",
    "    \n",
    "    if var_type == 1:\n",
    "        temp = pd.Series(data = hue)\n",
    "        fig, ax = plt.subplots()\n",
    "        width = len(dataframe[column].unique()) + 6 + 4*len(temp.unique())\n",
    "        fig.set_size_inches(width , 7)\n",
    "        ax = sns.countplot(data = dataframe, x=column, order=dataframe[column].value_counts().index, hue=hue) \n",
    "        if len(temp.unique()) > 0:\n",
    "            for p in ax.patches:\n",
    "                ax.annotate('{:1.1f}%'.format((p.get_height()*100)/float(len(dataframe))), (p.get_x()+0.05, p.get_height()+20))  \n",
    "        else:\n",
    "            for p in ax.patches:\n",
    "                ax.annotate(p.get_height(), (p.get_x()+0.32, p.get_height()+20)) \n",
    "        del temp\n",
    "    else:\n",
    "        exit\n",
    "        \n",
    "    plt.show()"
   ]
  },
  {
   "cell_type": "markdown",
   "id": "e9b25182-ba9e-4e97-8f74-a7bcdf186e50",
   "metadata": {},
   "source": [
    "# Data Understanding\n",
    "* Ensure data quality:  identify issues and report them. \n",
    "* Interpreted the meaning of the variables and describe the actions in as comments."
   ]
  },
  {
   "cell_type": "code",
   "execution_count": 21,
   "id": "53221996-5610-4487-8234-3b85525ca2e3",
   "metadata": {},
   "outputs": [
    {
     "data": {
      "text/html": [
       "<div>\n",
       "<style scoped>\n",
       "    .dataframe tbody tr th:only-of-type {\n",
       "        vertical-align: middle;\n",
       "    }\n",
       "\n",
       "    .dataframe tbody tr th {\n",
       "        vertical-align: top;\n",
       "    }\n",
       "\n",
       "    .dataframe thead th {\n",
       "        text-align: right;\n",
       "    }\n",
       "</style>\n",
       "<table border=\"1\" class=\"dataframe\">\n",
       "  <thead>\n",
       "    <tr style=\"text-align: right;\">\n",
       "      <th></th>\n",
       "      <th>instant</th>\n",
       "      <th>dteday</th>\n",
       "      <th>season</th>\n",
       "      <th>yr</th>\n",
       "      <th>mnth</th>\n",
       "      <th>holiday</th>\n",
       "      <th>weekday</th>\n",
       "      <th>workingday</th>\n",
       "      <th>weathersit</th>\n",
       "      <th>temp</th>\n",
       "      <th>atemp</th>\n",
       "      <th>hum</th>\n",
       "      <th>windspeed</th>\n",
       "      <th>casual</th>\n",
       "      <th>registered</th>\n",
       "      <th>cnt</th>\n",
       "    </tr>\n",
       "  </thead>\n",
       "  <tbody>\n",
       "    <tr>\n",
       "      <th>0</th>\n",
       "      <td>1</td>\n",
       "      <td>01-01-2018</td>\n",
       "      <td>1</td>\n",
       "      <td>0</td>\n",
       "      <td>1</td>\n",
       "      <td>0</td>\n",
       "      <td>6</td>\n",
       "      <td>0</td>\n",
       "      <td>2</td>\n",
       "      <td>14.110847</td>\n",
       "      <td>18.18125</td>\n",
       "      <td>80.5833</td>\n",
       "      <td>10.749882</td>\n",
       "      <td>331</td>\n",
       "      <td>654</td>\n",
       "      <td>985</td>\n",
       "    </tr>\n",
       "    <tr>\n",
       "      <th>1</th>\n",
       "      <td>2</td>\n",
       "      <td>02-01-2018</td>\n",
       "      <td>1</td>\n",
       "      <td>0</td>\n",
       "      <td>1</td>\n",
       "      <td>0</td>\n",
       "      <td>0</td>\n",
       "      <td>0</td>\n",
       "      <td>2</td>\n",
       "      <td>14.902598</td>\n",
       "      <td>17.68695</td>\n",
       "      <td>69.6087</td>\n",
       "      <td>16.652113</td>\n",
       "      <td>131</td>\n",
       "      <td>670</td>\n",
       "      <td>801</td>\n",
       "    </tr>\n",
       "    <tr>\n",
       "      <th>2</th>\n",
       "      <td>3</td>\n",
       "      <td>03-01-2018</td>\n",
       "      <td>1</td>\n",
       "      <td>0</td>\n",
       "      <td>1</td>\n",
       "      <td>0</td>\n",
       "      <td>1</td>\n",
       "      <td>1</td>\n",
       "      <td>1</td>\n",
       "      <td>8.050924</td>\n",
       "      <td>9.47025</td>\n",
       "      <td>43.7273</td>\n",
       "      <td>16.636703</td>\n",
       "      <td>120</td>\n",
       "      <td>1229</td>\n",
       "      <td>1349</td>\n",
       "    </tr>\n",
       "    <tr>\n",
       "      <th>3</th>\n",
       "      <td>4</td>\n",
       "      <td>04-01-2018</td>\n",
       "      <td>1</td>\n",
       "      <td>0</td>\n",
       "      <td>1</td>\n",
       "      <td>0</td>\n",
       "      <td>2</td>\n",
       "      <td>1</td>\n",
       "      <td>1</td>\n",
       "      <td>8.2</td>\n",
       "      <td>10.6061</td>\n",
       "      <td>59.0435</td>\n",
       "      <td>10.739832</td>\n",
       "      <td>108</td>\n",
       "      <td>1454</td>\n",
       "      <td>1562</td>\n",
       "    </tr>\n",
       "    <tr>\n",
       "      <th>4</th>\n",
       "      <td>5</td>\n",
       "      <td>05-01-2018</td>\n",
       "      <td>1</td>\n",
       "      <td>0</td>\n",
       "      <td>1</td>\n",
       "      <td>0</td>\n",
       "      <td>3</td>\n",
       "      <td>1</td>\n",
       "      <td>1</td>\n",
       "      <td>9.305237</td>\n",
       "      <td>11.4635</td>\n",
       "      <td>43.6957</td>\n",
       "      <td>12.5223</td>\n",
       "      <td>82</td>\n",
       "      <td>1518</td>\n",
       "      <td>1600</td>\n",
       "    </tr>\n",
       "  </tbody>\n",
       "</table>\n",
       "</div>"
      ],
      "text/plain": [
       "  instant      dteday season yr mnth holiday weekday workingday weathersit  \\\n",
       "0       1  01-01-2018      1  0    1       0       6          0          2   \n",
       "1       2  02-01-2018      1  0    1       0       0          0          2   \n",
       "2       3  03-01-2018      1  0    1       0       1          1          1   \n",
       "3       4  04-01-2018      1  0    1       0       2          1          1   \n",
       "4       5  05-01-2018      1  0    1       0       3          1          1   \n",
       "\n",
       "        temp     atemp      hum  windspeed casual registered   cnt  \n",
       "0  14.110847  18.18125  80.5833  10.749882    331        654   985  \n",
       "1  14.902598  17.68695  69.6087  16.652113    131        670   801  \n",
       "2   8.050924   9.47025  43.7273  16.636703    120       1229  1349  \n",
       "3        8.2   10.6061  59.0435  10.739832    108       1454  1562  \n",
       "4   9.305237   11.4635  43.6957    12.5223     82       1518  1600  "
      ]
     },
     "execution_count": 21,
     "metadata": {},
     "output_type": "execute_result"
    }
   ],
   "source": [
    "# Getting the first 5 rows from the raw_data dataframe for data exploration\n",
    "raw_data.head()"
   ]
  },
  {
   "cell_type": "code",
   "execution_count": 22,
   "id": "e813c8b7-5582-4702-a650-3b494ac02ae1",
   "metadata": {},
   "outputs": [
    {
     "name": "stdout",
     "output_type": "stream",
     "text": [
      "(730, 16)\n",
      "<class 'pandas.core.frame.DataFrame'>\n",
      "RangeIndex: 730 entries, 0 to 729\n",
      "Data columns (total 16 columns):\n",
      " #   Column      Non-Null Count  Dtype \n",
      "---  ------      --------------  ----- \n",
      " 0   instant     730 non-null    object\n",
      " 1   dteday      730 non-null    object\n",
      " 2   season      730 non-null    object\n",
      " 3   yr          730 non-null    object\n",
      " 4   mnth        730 non-null    object\n",
      " 5   holiday     730 non-null    object\n",
      " 6   weekday     730 non-null    object\n",
      " 7   workingday  730 non-null    object\n",
      " 8   weathersit  730 non-null    object\n",
      " 9   temp        730 non-null    object\n",
      " 10  atemp       730 non-null    object\n",
      " 11  hum         730 non-null    object\n",
      " 12  windspeed   730 non-null    object\n",
      " 13  casual      730 non-null    object\n",
      " 14  registered  730 non-null    object\n",
      " 15  cnt         730 non-null    object\n",
      "dtypes: object(16)\n",
      "memory usage: 91.4+ KB\n",
      "None\n"
     ]
    }
   ],
   "source": [
    "# Understanding the structure of the dataset\n",
    "# Checking shape & datatype of raw_data dataframe\n",
    "print(raw_data.shape)\n",
    "print(raw_data.info())"
   ]
  },
  {
   "cell_type": "code",
   "execution_count": 23,
   "id": "9f31d1ae-031c-4a1f-b7b0-47e4360ec9c7",
   "metadata": {},
   "outputs": [
    {
     "name": "stdout",
     "output_type": "stream",
     "text": [
      "instant       object\n",
      "dteday        object\n",
      "season        object\n",
      "yr            object\n",
      "mnth          object\n",
      "holiday       object\n",
      "weekday       object\n",
      "workingday    object\n",
      "weathersit    object\n",
      "temp          object\n",
      "atemp         object\n",
      "hum           object\n",
      "windspeed     object\n",
      "casual        object\n",
      "registered    object\n",
      "cnt           object\n",
      "dtype: object\n"
     ]
    }
   ],
   "source": [
    "print(raw_data.dtypes)"
   ]
  },
  {
   "cell_type": "code",
   "execution_count": 24,
   "id": "58800e85-15f9-47da-a700-ea36802dd40a",
   "metadata": {},
   "outputs": [
    {
     "name": "stdout",
     "output_type": "stream",
     "text": [
      "730\n"
     ]
    },
    {
     "data": {
      "text/plain": [
       "0"
      ]
     },
     "execution_count": 24,
     "metadata": {},
     "output_type": "execute_result"
    }
   ],
   "source": [
    "# We verify if there is any dublicated rows in ['instant']\n",
    "\n",
    "print(raw_data.duplicated(subset=None, keep='first').count())\n",
    "sum(raw_data.duplicated(['instant']))\n",
    "\n",
    "## Result: There are no duplicated IDs !!!"
   ]
  },
  {
   "cell_type": "code",
   "execution_count": 25,
   "id": "3bc0dfaa-3f82-4b73-bfd2-a23dbc6fd5be",
   "metadata": {},
   "outputs": [
    {
     "name": "stdout",
     "output_type": "stream",
     "text": [
      "N Empty Rows: 0\n"
     ]
    }
   ],
   "source": [
    "# Checking how many rows have all missing values\n",
    "empty_rows = raw_data.isnull().all(axis=1).sum()\n",
    "print(f'N Empty Rows: {empty_rows}')\n",
    "\n",
    "## Result: There are 54 columns have all missing values."
   ]
  },
  {
   "cell_type": "code",
   "execution_count": 26,
   "id": "ae8d8146-f0f6-400c-afac-60edc88699ff",
   "metadata": {},
   "outputs": [
    {
     "name": "stdout",
     "output_type": "stream",
     "text": [
      "N Empty Columns: 0\n"
     ]
    }
   ],
   "source": [
    "# Checking how many columns have all missing values\n",
    "empty_columns = raw_data.isnull().all(axis=0).sum()\n",
    "print(f'N Empty Columns: {empty_columns}')\n",
    "\n",
    "## Result: There are no missing values in all the columns."
   ]
  },
  {
   "cell_type": "code",
   "execution_count": 27,
   "id": "50ebbf7d-5b2b-422b-9d0a-0fb714270e39",
   "metadata": {},
   "outputs": [
    {
     "data": {
      "text/plain": [
       "instant       0\n",
       "dteday        0\n",
       "season        0\n",
       "yr            0\n",
       "mnth          0\n",
       "holiday       0\n",
       "weekday       0\n",
       "workingday    0\n",
       "weathersit    0\n",
       "temp          0\n",
       "atemp         0\n",
       "hum           0\n",
       "windspeed     0\n",
       "casual        0\n",
       "registered    0\n",
       "cnt           0\n",
       "dtype: int64"
      ]
     },
     "execution_count": 27,
     "metadata": {},
     "output_type": "execute_result"
    }
   ],
   "source": [
    "# Counting Nulls in each column\n",
    "raw_data.isnull().sum()"
   ]
  },
  {
   "cell_type": "markdown",
   "id": "03adfec5-80d9-4625-8b0e-13913be741ea",
   "metadata": {},
   "source": [
    "## Data Preparation\n",
    "\n",
    "* Data quality issues are addressed\n",
    " * Missing value imputation.\n",
    " * Outlier treatment.\n",
    " * Remove data redundancies.\n",
    "* If needed, converted data to a suitable and convenient format to work with using the right methods.\n",
    "* Manipulation of strings and dates is done correctly wherever required."
   ]
  },
  {
   "cell_type": "markdown",
   "id": "9fae9f94-368f-4ac6-8278-e980c1dbcfae",
   "metadata": {},
   "source": [
    "### Dropping Data"
   ]
  },
  {
   "cell_type": "code",
   "execution_count": 16,
   "id": "2ba17fc7-e450-4794-9cdc-8d8b5c406deb",
   "metadata": {},
   "outputs": [
    {
     "name": "stdout",
     "output_type": "stream",
     "text": [
      "Raw_Data Memory Usage: 1MB\n"
     ]
    }
   ],
   "source": [
    "# Verifying how much memory is used by raw_data dataframe\n",
    "raw_data_size_mb = format(sys.getsizeof(raw_data) /(1028**2), '.0f')\n",
    "\n",
    "print(f'Raw_Data Memory Usage: {raw_data_size_mb}MB')"
   ]
  },
  {
   "cell_type": "code",
   "execution_count": null,
   "id": "85992460-620b-454e-a1c3-f34a605fc30e",
   "metadata": {},
   "outputs": [],
   "source": []
  },
  {
   "cell_type": "code",
   "execution_count": null,
   "id": "e57ca65c-8374-46de-b250-7dedbba98c41",
   "metadata": {},
   "outputs": [],
   "source": []
  },
  {
   "cell_type": "code",
   "execution_count": null,
   "id": "e11358a9-c280-4ee2-bdcc-6349dabc9e7e",
   "metadata": {},
   "outputs": [],
   "source": []
  },
  {
   "cell_type": "code",
   "execution_count": null,
   "id": "fa1560cd-95d9-465c-91a1-a14be6f0705b",
   "metadata": {},
   "outputs": [],
   "source": []
  },
  {
   "cell_type": "code",
   "execution_count": null,
   "id": "6f5b63eb-b826-499c-a15f-f2b76056e9fe",
   "metadata": {},
   "outputs": [],
   "source": []
  },
  {
   "cell_type": "code",
   "execution_count": null,
   "id": "b7bf63a3-dbe6-4b11-842f-ad700390c3f3",
   "metadata": {},
   "outputs": [],
   "source": []
  },
  {
   "cell_type": "markdown",
   "id": "4d8a9746-330f-4b1e-82ad-aea8cde96f52",
   "metadata": {},
   "source": [
    "### Formatting Data"
   ]
  },
  {
   "cell_type": "code",
   "execution_count": null,
   "id": "d0eccf4b-6e8b-4534-a74e-491e0569b805",
   "metadata": {},
   "outputs": [],
   "source": []
  },
  {
   "cell_type": "markdown",
   "id": "3b54fe9a-305e-4d12-b18a-02bebe022a79",
   "metadata": {},
   "source": [
    "### Derived Data"
   ]
  },
  {
   "cell_type": "code",
   "execution_count": null,
   "id": "0bb3f633-2871-4c41-8074-dbb8744e784f",
   "metadata": {},
   "outputs": [],
   "source": []
  },
  {
   "cell_type": "markdown",
   "id": "8e0d55ea-5858-4a78-bb26-2883b13077e9",
   "metadata": {},
   "source": [
    "## Data Analysis\n",
    "\n",
    "* Univariate and segmented univariate analysis. \n",
    " * Describe assumptions \n",
    " * The analyses successfully identify at least the 5 important driver variables.\n",
    "* The most useful insights are explained correctly in the comments.\n",
    "* Appropriate plots are created to present the results of the analysis."
   ]
  },
  {
   "cell_type": "markdown",
   "id": "96d818b7-07cd-40c8-aea6-aea931236123",
   "metadata": {},
   "source": [
    "### Univariable Analysis"
   ]
  },
  {
   "cell_type": "code",
   "execution_count": null,
   "id": "0160b631-3423-49f8-8a26-82fc1ae76c53",
   "metadata": {},
   "outputs": [],
   "source": []
  },
  {
   "cell_type": "markdown",
   "id": "7525a039-a283-4b24-b0d5-8e7cfa698b21",
   "metadata": {},
   "source": [
    "#### Plot Loan Numeric Data"
   ]
  },
  {
   "cell_type": "code",
   "execution_count": null,
   "id": "6863896f-82e7-4c82-b823-d1c50daa5757",
   "metadata": {},
   "outputs": [],
   "source": []
  },
  {
   "cell_type": "markdown",
   "id": "86bbc311-a201-41fb-a10a-f2241efb79bf",
   "metadata": {},
   "source": [
    "#### Plot Loan Categorical Data"
   ]
  },
  {
   "cell_type": "code",
   "execution_count": null,
   "id": "36d13702-2ca3-4b77-bdde-b111385aa6ae",
   "metadata": {},
   "outputs": [],
   "source": []
  },
  {
   "cell_type": "markdown",
   "id": "e3fe9bc2-71c5-427c-848a-1adad0dc18ff",
   "metadata": {},
   "source": [
    "#### Plot Customer Numeric Data"
   ]
  },
  {
   "cell_type": "code",
   "execution_count": null,
   "id": "f865e6fa-b17d-41a5-be62-e8f16ee014d0",
   "metadata": {},
   "outputs": [],
   "source": []
  },
  {
   "cell_type": "markdown",
   "id": "340b7024-7c94-4cc4-80a3-c463db5baa16",
   "metadata": {},
   "source": [
    "#### Plot Customer Categorical Data"
   ]
  },
  {
   "cell_type": "code",
   "execution_count": null,
   "id": "6f9e0996-26c5-4891-bb6b-641f77edf4f0",
   "metadata": {},
   "outputs": [],
   "source": []
  },
  {
   "cell_type": "markdown",
   "id": "4cc4ea6d-8e24-474b-8ebc-73f382dbf099",
   "metadata": {},
   "source": [
    "### Bivariable Analysis"
   ]
  },
  {
   "cell_type": "code",
   "execution_count": null,
   "id": "7f6019b2-260a-4db9-b1ef-8b9e72904d37",
   "metadata": {},
   "outputs": [],
   "source": []
  },
  {
   "cell_type": "markdown",
   "id": "8fa5f75c-8502-4306-a098-d622db35b3a7",
   "metadata": {},
   "source": [
    "## Model Building"
   ]
  },
  {
   "cell_type": "code",
   "execution_count": null,
   "id": "07518cc7-ebec-41ac-a38f-aadb81337365",
   "metadata": {},
   "outputs": [],
   "source": []
  },
  {
   "cell_type": "markdown",
   "id": "b76ee6bf-d868-42d5-9f9c-94afd161dc08",
   "metadata": {},
   "source": [
    "## Model Testing"
   ]
  },
  {
   "cell_type": "code",
   "execution_count": null,
   "id": "821a5c42-def7-4bc1-8bae-5b3344ef84a0",
   "metadata": {},
   "outputs": [],
   "source": []
  },
  {
   "cell_type": "code",
   "execution_count": null,
   "id": "f7b49d90-a2e4-42e5-bbe1-e3c952543632",
   "metadata": {},
   "outputs": [],
   "source": []
  },
  {
   "cell_type": "markdown",
   "id": "16a1ed5d-715a-433a-aab2-3a5082d3a825",
   "metadata": {},
   "source": [
    "## Conclusions and Observations"
   ]
  },
  {
   "cell_type": "code",
   "execution_count": null,
   "id": "4ef6ed01-68b8-4269-be5a-61fe5418198b",
   "metadata": {},
   "outputs": [],
   "source": []
  },
  {
   "cell_type": "code",
   "execution_count": null,
   "id": "712f0e3a-9912-40d7-87ef-53feaec087a3",
   "metadata": {},
   "outputs": [],
   "source": []
  },
  {
   "cell_type": "code",
   "execution_count": null,
   "id": "5e3b91cf-da87-4063-939c-57873350c15c",
   "metadata": {},
   "outputs": [],
   "source": []
  },
  {
   "cell_type": "code",
   "execution_count": null,
   "id": "38af9c07-29ae-4b4b-8fac-d8f5134d5cca",
   "metadata": {},
   "outputs": [],
   "source": []
  },
  {
   "cell_type": "code",
   "execution_count": null,
   "id": "b50341db-a128-4748-85df-62c7f600e1c0",
   "metadata": {},
   "outputs": [],
   "source": []
  }
 ],
 "metadata": {
  "kernelspec": {
   "display_name": "Python 3",
   "language": "python",
   "name": "python3"
  },
  "language_info": {
   "codemirror_mode": {
    "name": "ipython",
    "version": 3
   },
   "file_extension": ".py",
   "mimetype": "text/x-python",
   "name": "python",
   "nbconvert_exporter": "python",
   "pygments_lexer": "ipython3",
   "version": "3.8.8"
  }
 },
 "nbformat": 4,
 "nbformat_minor": 5
}
